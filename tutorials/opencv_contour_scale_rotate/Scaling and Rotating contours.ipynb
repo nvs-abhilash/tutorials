{
 "cells": [
  {
   "cell_type": "markdown",
   "metadata": {},
   "source": [
    "# Tutorial: How to scale and rotate contours in OpenCV\n",
    "\n",
    "In this tutorial, I'll walk you through how one can scale and rotate a contour.\n",
    "\n",
    "## TL;DR just want the code\n",
    "\n",
    "The functions are present in this github gist: https://gist.github.com/nvs-abhilash/75a3920980fe32ffd4754bc205362125.\n",
    "\n",
    "Follow along, if you want to understand what's the simple idea behind the implementation."
   ]
  },
  {
   "cell_type": "markdown",
   "metadata": {},
   "source": [
    "## Why?\n",
    "\n",
    "Why would one want to scale or rotate a contour of objects in an image? For me, I had a very similar problem as this one: https://answers.opencv.org/question/44580/how-to-resize-a-contour/. \n",
    "\n",
    "I had to scale down the output of an Image Segmentation deep learning model for a specific class, to tightly fit the object of that class. Basically a post processing step for my deep learning model.\n",
    "\n",
    "I am not able to think of any other \"generic\" applications for this, may be you can comment for which applications you found it useful.\n",
    "\n",
    "Plus, I did not find any python articles regarding this, so I thought I'll give it a try."
   ]
  },
  {
   "cell_type": "markdown",
   "metadata": {},
   "source": [
    "## Learning by example\n",
    "\n",
    "Throughout this short tutorial, I would be using a simple image to demostrate my points, below is some code for imports and loading the image, and generating the contours. You know, that standard stuff!"
   ]
  },
  {
   "cell_type": "code",
   "execution_count": 1,
   "metadata": {},
   "outputs": [],
   "source": [
    "import cv2\n",
    "import numpy as np\n",
    "\n",
    "import matplotlib.pyplot as plt\n",
    "\n",
    "# Reading the image\n",
    "im = cv2.imread('sample_img.png')\n",
    "\n",
    "# Converting image to grayscale\n",
    "imgray = cv2.cvtColor(im, cv2.COLOR_BGR2GRAY)\n",
    "\n",
    "# Thresholding and getting contours from the image\n",
    "ret, thresh = cv2.threshold(imgray, 127, 255, 0)\n",
    "contours, hierarchy = cv2.findContours(thresh, cv2.RETR_TREE, cv2.CHAIN_APPROX_SIMPLE)\n"
   ]
  },
  {
   "cell_type": "code",
   "execution_count": 2,
   "metadata": {},
   "outputs": [
    {
     "data": {
      "image/png": "[encoded data removed]",
      "text/plain": [
       "<Figure size 432x288 with 1 Axes>"
      ]
     },
     "metadata": {
      "needs_background": "light"
     },
     "output_type": "display_data"
    }
   ],
   "source": [
    "im_copy = im.copy()\n",
    "\n",
    "cv2.drawContours(im_copy, contours, 0, (255, 0, 0), 3)\n",
    "\n",
    "plt.imshow(im_copy)\n",
    "plt.axis(\"off\");"
   ]
  },
  {
   "cell_type": "markdown",
   "metadata": {},
   "source": [
    "## How to resize contours\n",
    "\n",
    "Well, the idea is pretty simple, and if you have some understanding of high-school math, below steps would seem very sensible:\n",
    "\n",
    "* Step 1: Translate the contour to the origin\n",
    "* Step 2: Scale each point of the contour\n",
    "* Step 3: Translate back the contour to it's original place.\n",
    "\n",
    "Below I explain and show code equivalents of each step.\n",
    "\n",
    "### Translate the contour to the origin\n",
    "\n",
    "To translate the contour to the origin, we just have to subtract the coordinates of the centroid of the contour with all the points. And the centeroid of the contour can be found using the `cv2.moments` function.\n",
    "\n",
    "* Getting the centroid of the contour\n",
    "```python\n",
    "M = cv2.moments(cnt)\n",
    "cx = int(M['m10']/M['m00'])\n",
    "cy = int(M['m01']/M['m00'])\n",
    "```\n",
    "\n",
    "* Translating the contour by subtracting the center with all the points\n",
    "```python\n",
    "cnt_norm = cnt - [cx, cy]\n",
    "```\n",
    "\n",
    "### Scale each point of the contour\n",
    "\n",
    "* To scale each point of the contour, we just have to multiply the scale with the contour points.\n",
    "\n",
    "```python\n",
    "cnt_scaled = cnt_norm * scale\n",
    "```\n",
    "\n",
    "### Translate back the contour to it's original place.\n",
    "\n",
    "* This step can be achieved by simply adding back the centroid co-ordinates to the contour points and that's it!\n",
    "\n",
    "```python\n",
    "cnt_scaled = cnt_scaled + [cx, cy]\n",
    "cnt_scaled = cnt_scaled.astype(np.int32)\n",
    "```\n",
    "\n",
    "### Combining all the steps into a function for scaling\n",
    "\n",
    "Hence we can write a simpe function based on the above steps as below:"
   ]
  },
  {
   "cell_type": "code",
   "execution_count": 3,
   "metadata": {},
   "outputs": [],
   "source": [
    "def scale_contour(cnt, scale):\n",
    "    M = cv2.moments(cnt)\n",
    "    cx = int(M['m10']/M['m00'])\n",
    "    cy = int(M['m01']/M['m00'])\n",
    "\n",
    "    cnt_norm = cnt - [cx, cy]\n",
    "    cnt_scaled = cnt_norm * scale\n",
    "    cnt_scaled = cnt_scaled + [cx, cy]\n",
    "    cnt_scaled = cnt_scaled.astype(np.int32)\n",
    "\n",
    "    return cnt_scaled"
   ]
  },
  {
   "cell_type": "markdown",
   "metadata": {},
   "source": [
    "And we can call this function to test that it works fine!\n",
    "\n",
    "* **RED BOUNDRY**: Original contour\n",
    "* **GREEN BOUNDRY**: Scaled contour"
   ]
  },
  {
   "cell_type": "code",
   "execution_count": 4,
   "metadata": {},
   "outputs": [
    {
     "data": {
      "image/png": "[encoded data removed]",
      "text/plain": [
       "<Figure size 432x288 with 1 Axes>"
      ]
     },
     "metadata": {
      "needs_background": "light"
     },
     "output_type": "display_data"
    }
   ],
   "source": [
    "cnt_scaled = scale_contour(contours[0], 0.3)\n",
    "\n",
    "im_copy = im.copy()\n",
    "cv2.drawContours(im_copy, contours, 0, (255, 0, 0), 3)\n",
    "cv2.drawContours(im_copy, [cnt_scaled], 0, (0, 255, 0), 3)\n",
    "\n",
    "plt.imshow(im_copy)\n",
    "plt.axis(\"off\");"
   ]
  },
  {
   "cell_type": "markdown",
   "metadata": {},
   "source": [
    "## How to rotate contours\n",
    "\n",
    "Rotating contours are also simple, and again would just take some high school math to understand the steps. \n",
    "\n",
    "* Step 1: Translate the contour to the origin\n",
    "* Step 2: Rotate each point of the contour\n",
    "* Step 3: Translate back the contour to it's original place.\n",
    "\n",
    "### Translate the contour to the origin\n",
    "\n",
    "* Getting the center\n",
    "```python\n",
    "M = cv2.moments(cnt)\n",
    "cx = int(M['m10']/M['m00'])\n",
    "cy = int(M['m01']/M['m00'])\n",
    "```\n",
    "\n",
    "* Translating the contour by subtracting the center with all the points\n",
    "```python\n",
    "cnt_norm = cnt - [cx, cy]\n",
    "```\n",
    "\n",
    "### Rotating each point of the contour\n",
    "\n",
    "Once you have put the contour to the origin, we have to rotate each point. And for me understanding rotation is much easier in polar co-ordinates as compared to cartesian co-ordinates (I hope for you too :P). So, that's what we'll do! Convert the points to polar coordates, add the rotation, and convert it back to cartesian co-ordinates. \n",
    "\n",
    "* These are some helper functions which I borrowed from [here](https://stackoverflow.com/a/26757297) to convert back and forth between polar and cartesian co-ordinates\n",
    "\n",
    "```python\n",
    "def cart2pol(x, y):\n",
    "    theta = np.arctan2(y, x)\n",
    "    rho = np.hypot(x, y)\n",
    "    return theta, rho\n",
    "\n",
    "\n",
    "def pol2cart(theta, rho):\n",
    "    x = rho * np.cos(theta)\n",
    "    y = rho * np.sin(theta)\n",
    "    return x, y\n",
    "```\n",
    "\n",
    "* Converting the `x-y`(cartesian) co-ordinates to `theta-rho` (polar)\n",
    "```python\n",
    "coordinates = cnt_norm[:, 0, :]\n",
    "xs, ys = coordinates[:, 0], coordinates[:, 1]\n",
    "thetas, rhos = cart2pol(xs, ys)\n",
    "```\n",
    "\n",
    "* Adding the `angle` to the `thetas`. \n",
    "```python\n",
    "thetas_deg = np.rad2deg(thetas)\n",
    "thetas_new_deg = (thetas_deg + angle) % 360\n",
    "thetas_new = np.deg2rad(thetas_new_deg)\n",
    "```\n",
    "\n",
    "    **Note**: I converted the radians to degrees because I chose to give `angle` in degrees form (and it makes modulo operation much cleaner). Then I again convert it back to radians. \n",
    "\n",
    "\n",
    "* Convert the new polar coordinates to cartesian co-ordinates:\n",
    "```python\n",
    "xs, ys = pol2cart(thetas, rhos)\n",
    "cnt_norm[:, 0, 0] = xs\n",
    "cnt_norm[:, 0, 1] = ys\n",
    "```\n",
    "\n",
    "### Translate back the contour to it's original place.\n",
    "\n",
    "Add center coordinates to the contours' coordinates\n",
    "```python\n",
    "cnt_rotated = cnt_norm + [cx, cy]\n",
    "cnt_rotated = cnt_rotated.astype(np.int32)\n",
    "```\n",
    "\n",
    "### Combining all the steps into a function for rotation\n",
    "\n",
    "Hence we can write a simpe function based on the above steps as below:"
   ]
  },
  {
   "cell_type": "code",
   "execution_count": 5,
   "metadata": {},
   "outputs": [],
   "source": [
    "def cart2pol(x, y):\n",
    "    theta = np.arctan2(y, x)\n",
    "    rho = np.hypot(x, y)\n",
    "    return theta, rho\n",
    "\n",
    "\n",
    "def pol2cart(theta, rho):\n",
    "    x = rho * np.cos(theta)\n",
    "    y = rho * np.sin(theta)\n",
    "    return x, y\n",
    "\n",
    "\n",
    "def rotate_contour(cnt, angle):\n",
    "    M = cv2.moments(cnt)\n",
    "    cx = int(M['m10']/M['m00'])\n",
    "    cy = int(M['m01']/M['m00'])\n",
    "\n",
    "    cnt_norm = cnt - [cx, cy]\n",
    "    \n",
    "    coordinates = cnt_norm[:, 0, :]\n",
    "    xs, ys = coordinates[:, 0], coordinates[:, 1]\n",
    "    thetas, rhos = cart2pol(xs, ys)\n",
    "    \n",
    "    thetas = np.rad2deg(thetas)\n",
    "    thetas = (thetas + angle) % 360\n",
    "    thetas = np.deg2rad(thetas)\n",
    "    \n",
    "    xs, ys = pol2cart(thetas, rhos)\n",
    "    \n",
    "    cnt_norm[:, 0, 0] = xs\n",
    "    cnt_norm[:, 0, 1] = ys\n",
    "\n",
    "    cnt_rotated = cnt_norm + [cx, cy]\n",
    "    cnt_rotated = cnt_rotated.astype(np.int32)\n",
    "\n",
    "    return cnt_rotated"
   ]
  },
  {
   "cell_type": "markdown",
   "metadata": {},
   "source": [
    "And we can call this function to test that it works fine!\n",
    "\n",
    "* **RED BOUNDRY**: Original contour\n",
    "* **GREEN BOUNDRY**: Scaled contour"
   ]
  },
  {
   "cell_type": "code",
   "execution_count": 6,
   "metadata": {},
   "outputs": [
    {
     "data": {
      "image/png": "[encoded data removed]",
      "text/plain": [
       "<Figure size 432x288 with 1 Axes>"
      ]
     },
     "metadata": {
      "needs_background": "light"
     },
     "output_type": "display_data"
    }
   ],
   "source": [
    "cnt_rotated = rotate_contour(contours[0], 60)\n",
    "\n",
    "im_copy = im.copy()\n",
    "cv2.drawContours(im_copy, contours, 0, (255, 0, 0), 3)\n",
    "cv2.drawContours(im_copy, [cnt_rotated], 0, (0, 255, 0), 3)\n",
    "\n",
    "plt.imshow(im_copy)\n",
    "plt.axis(\"off\");"
   ]
  },
  {
   "cell_type": "markdown",
   "metadata": {},
   "source": [
    "## Having fun with random rotation, scale, and translation\n",
    "\n",
    "Here is a simple code to generated random rotation, scaling and translation (not covered in the tutorial but it's just a simple addition of co-ordinates).\n",
    "\n",
    "In-case someone wants to disect this code, these are the key things I did:\n",
    "* Generate multiple randon contours with a loop. (I know right :D )\n",
    "* Get randomness with `np.random.random()` which returns random numbers between `[0, 1)`. We can multiply it with desired max value to get values between `[0, max_vale)`.\n",
    "* For rotation, I chose angle between `0` and `90` degrees, as the image is symmetric at `90` degrees rotation.\n",
    "* For scale I took random values between `0` to `0.5`, i.e. from 0% to 50% of original contour.\n",
    "* Randomly translated between `(-200, 200)` across x and y axis.\n",
    "* Random color generation of rgb values.\n",
    "* Just drawing the contours with `thickness=-1` which dentes to fill the contour."
   ]
  },
  {
   "cell_type": "code",
   "execution_count": 8,
   "metadata": {},
   "outputs": [
    {
     "data": {
      "image/png": "[encoded data removed]",
      "text/plain": [
       "<Figure size 432x288 with 1 Axes>"
      ]
     },
     "metadata": {
      "needs_background": "light"
     },
     "output_type": "display_data"
    }
   ],
   "source": [
    "im_copy = im.copy()\n",
    "cv2.drawContours(im_copy, contours, 0, (255, 0, 0), 3)\n",
    "\n",
    "for i in range(20):\n",
    "    cnt_rotated = rotate_contour(contours[0], np.random.random() * 90)\n",
    "    cnt_scaled = scale_contour(cnt_rotated, np.random.random() * 0.5)\n",
    "    \n",
    "    cnt_translated = cnt_scaled + np.random.randint(low=-200, high=200, size=(2,))\n",
    "    \n",
    "    r, g, b = [int(np.random.choice(range(255))) for _ in range(3)]\n",
    "    cv2.drawContours(im_copy, [cnt_translated], 0, (r, g, b), -1)\n",
    "\n",
    "plt.imshow(im_copy)\n",
    "plt.axis(\"off\");"
   ]
  },
  {
   "cell_type": "code",
   "execution_count": null,
   "metadata": {},
   "outputs": [],
   "source": []
  }
 ],
 "metadata": {
  "kernelspec": {
   "display_name": "Python 3",
   "language": "python",
   "name": "python3"
  },
  "language_info": {
   "codemirror_mode": {
    "name": "ipython",
    "version": 3
   },
   "file_extension": ".py",
   "mimetype": "text/x-python",
   "name": "python",
   "nbconvert_exporter": "python",
   "pygments_lexer": "ipython3",
   "version": "3.7.3"
  }
 },
 "nbformat": 4,
 "nbformat_minor": 2
}
